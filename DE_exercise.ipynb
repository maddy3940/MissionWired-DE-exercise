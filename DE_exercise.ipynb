{
 "cells": [
  {
   "cell_type": "code",
   "execution_count": 1,
   "metadata": {},
   "outputs": [],
   "source": [
    "import warnings\n",
    "warnings.filterwarnings(\"ignore\")\n",
    "import os\n",
    "import pandas as pd"
   ]
  },
  {
   "cell_type": "code",
   "execution_count": 2,
   "metadata": {},
   "outputs": [],
   "source": [
    "pd.set_option('display.max_columns', None)"
   ]
  },
  {
   "cell_type": "code",
   "execution_count": 3,
   "metadata": {},
   "outputs": [],
   "source": [
    "def subtract_df(df1, df2, on):\n",
    "    \"\"\"\n",
    "    Subtracts the rows of df2 from df1 based on a common column.\n",
    "\n",
    "    Parameters:\n",
    "    df1 (pandas.DataFrame): The DataFrame to subtract from.\n",
    "    df2 (pandas.DataFrame): The DataFrame to subtract.\n",
    "    on (str or list of str, optional): The column(s) to use as the join key(s). If not specified, the function will use all common columns.\n",
    "\n",
    "    Returns:\n",
    "    pandas.DataFrame: The resulting DataFrame after subtracting df2 from df1.\n",
    "    \"\"\"\n",
    "    # merge the DataFrames\n",
    "    result = df1.merge(df2, on=on, how='left',suffixes=('','_y'), indicator=True)\n",
    "\n",
    "    # select only the rows in df1\n",
    "    result = result[result['_merge'] == 'left_only']\n",
    "\n",
    "    # drop the indicator column\n",
    "    result = result.drop(['_merge'] + [col for col in result.columns if '_y' in col], axis=1)\n",
    "                                                                        \n",
    "    return result"
   ]
  },
  {
   "cell_type": "code",
   "execution_count": 4,
   "metadata": {},
   "outputs": [],
   "source": [
    "# read all the required files\n",
    "cons_information = pd.read_csv('https://als-hiring.s3.amazonaws.com/fake_data/2020-07-01_17%3A11%3A00/cons.csv')\n",
    "cons_email = pd.read_csv('https://als-hiring.s3.amazonaws.com/fake_data/2020-07-01_17%3A11%3A00/cons_email.csv')\n",
    "cons_subscription = pd.read_csv('https://als-hiring.s3.amazonaws.com/fake_data/2020-07-01_17%3A11%3A00/cons_email_chapter_subscription.csv')"
   ]
  },
  {
   "cell_type": "code",
   "execution_count": 5,
   "metadata": {
    "collapsed": true,
    "jupyter": {
     "outputs_hidden": true
    }
   },
   "outputs": [
    {
     "data": {
      "text/plain": [
       "cons_id                         int64\n",
       "prefix                         object\n",
       "firstname                      object\n",
       "middlename                     object\n",
       "lastname                       object\n",
       "suffix                         object\n",
       "salutation                     object\n",
       "gender                         object\n",
       "birth_dt                       object\n",
       "title                          object\n",
       "employer                       object\n",
       "occupation                     object\n",
       "income                        float64\n",
       "source                         object\n",
       "subsource                      object\n",
       "userid                          int64\n",
       "password                       object\n",
       "is_validated                    int64\n",
       "is_banned                       int64\n",
       "change_password_next_login      int64\n",
       "consent_type_id                 int64\n",
       "create_dt                      object\n",
       "create_app                      int64\n",
       "create_user                     int64\n",
       "modified_dt                    object\n",
       "modified_app                    int64\n",
       "modified_user                   int64\n",
       "status                          int64\n",
       "note                           object\n",
       "dtype: object"
      ]
     },
     "execution_count": 5,
     "metadata": {},
     "output_type": "execute_result"
    }
   ],
   "source": [
    "# Check columns and datatypes\n",
    "cons_information.dtypes"
   ]
  },
  {
   "cell_type": "code",
   "execution_count": 6,
   "metadata": {
    "collapsed": true,
    "jupyter": {
     "outputs_hidden": true
    }
   },
   "outputs": [
    {
     "data": {
      "text/plain": [
       "cons_email_id            int64\n",
       "cons_id                  int64\n",
       "cons_email_type_id       int64\n",
       "is_primary               int64\n",
       "email                   object\n",
       "canonical_local_part    object\n",
       "domain                  object\n",
       "double_validation       object\n",
       "create_dt               object\n",
       "create_app               int64\n",
       "create_user              int64\n",
       "modified_dt             object\n",
       "modified_app             int64\n",
       "modified_user            int64\n",
       "status                   int64\n",
       "note                    object\n",
       "dtype: object"
      ]
     },
     "execution_count": 6,
     "metadata": {},
     "output_type": "execute_result"
    }
   ],
   "source": [
    "# Check columns and datatypes\n",
    "cons_email.dtypes"
   ]
  },
  {
   "cell_type": "code",
   "execution_count": 7,
   "metadata": {
    "collapsed": true,
    "jupyter": {
     "outputs_hidden": true
    }
   },
   "outputs": [
    {
     "data": {
      "text/plain": [
       "cons_email_chapter_subscription_id     int64\n",
       "cons_email_id                          int64\n",
       "chapter_id                             int64\n",
       "isunsub                                int64\n",
       "unsub_dt                              object\n",
       "modified_dt                           object\n",
       "dtype: object"
      ]
     },
     "execution_count": 7,
     "metadata": {},
     "output_type": "execute_result"
    }
   ],
   "source": [
    "# Check columns and datatypes\n",
    "cons_subscription.dtypes"
   ]
  },
  {
   "cell_type": "markdown",
   "metadata": {},
   "source": [
    "### Question 1\n"
   ]
  },
  {
   "cell_type": "code",
   "execution_count": 8,
   "metadata": {},
   "outputs": [],
   "source": [
    "# Taking only subset of the file that will be required\n",
    "cons_information_subset = cons_information[['cons_id','source','create_dt','modified_dt']]"
   ]
  },
  {
   "cell_type": "code",
   "execution_count": 9,
   "metadata": {},
   "outputs": [],
   "source": [
    "# Taking only subset of the file that will be required\n",
    "cons_email_subset = cons_email[['cons_email_id','cons_id','is_primary','email']]"
   ]
  },
  {
   "cell_type": "code",
   "execution_count": 10,
   "metadata": {},
   "outputs": [],
   "source": [
    "# Taking only subset of the file that will be required\n",
    "cons_subscription_subset = cons_subscription[['cons_email_id','chapter_id','isunsub']]"
   ]
  },
  {
   "cell_type": "code",
   "execution_count": 11,
   "metadata": {},
   "outputs": [
    {
     "data": {
      "text/plain": [
       "0    794361\n",
       "1    605639\n",
       "Name: is_primary, dtype: int64"
      ]
     },
     "execution_count": 11,
     "metadata": {},
     "output_type": "execute_result"
    }
   ],
   "source": [
    "cons_email_subset['is_primary'].value_counts()"
   ]
  },
  {
   "cell_type": "markdown",
   "metadata": {},
   "source": [
    "1 indicates True and 0 indicates False in all the bollean valued columns\n",
    "The above statistics indicates that in the email dataset 794361 email ids are not primary and 605639 emails are primary"
   ]
  },
  {
   "cell_type": "code",
   "execution_count": 12,
   "metadata": {},
   "outputs": [
    {
     "data": {
      "text/plain": [
       "0"
      ]
     },
     "execution_count": 12,
     "metadata": {},
     "output_type": "execute_result"
    }
   ],
   "source": [
    "# Check if all emails from subscription is present in email data\n",
    "subtract_df(cons_subscription_subset,cons_email_subset,on='cons_email_id').shape[0]"
   ]
  },
  {
   "cell_type": "markdown",
   "metadata": {},
   "source": [
    "##### Hypothesis Check\n",
    "In the above cell we check to see if there are any emails present in subscription dataset, that are not present in email dataset. \n",
    "\n",
    "There are no such emails"
   ]
  },
  {
   "cell_type": "code",
   "execution_count": 13,
   "metadata": {},
   "outputs": [],
   "source": [
    "# Filtering only primary email ids\n",
    "cons_email_primary = cons_email_subset.loc[cons_email_subset['is_primary']==1].reset_index().drop(['index'],axis=1)"
   ]
  },
  {
   "cell_type": "markdown",
   "metadata": {},
   "source": [
    "Since we are only concerned with primary email address, we filter those out from our soruce data in the above cell"
   ]
  },
  {
   "cell_type": "code",
   "execution_count": 14,
   "metadata": {},
   "outputs": [],
   "source": [
    "# Filttering out chapter id 1\n",
    "cons_subscription_chap1 = cons_subscription_subset.loc[cons_subscription_subset['chapter_id']==1].reset_index()"
   ]
  },
  {
   "cell_type": "code",
   "execution_count": 15,
   "metadata": {},
   "outputs": [
    {
     "data": {
      "text/plain": [
       "0"
      ]
     },
     "execution_count": 15,
     "metadata": {},
     "output_type": "execute_result"
    }
   ],
   "source": [
    "# Eemail that has subscribed or unsubscribed to chapter 1 more than once\n",
    "sum(cons_subscription_chap1['cons_email_id'].value_counts()>1)"
   ]
  },
  {
   "cell_type": "markdown",
   "metadata": {},
   "source": [
    "##### Hypothesis Check\n",
    "\n",
    "In the above cell we are checking to see whether there are any email ids who have subscribed and unsubscribed to chapter 1 multiple times.\n",
    "\n",
    "There are no such emails\n"
   ]
  },
  {
   "cell_type": "code",
   "execution_count": 16,
   "metadata": {},
   "outputs": [],
   "source": [
    "# Filtering out email ids who have subscribed to chapter 1\n",
    "cons_subscription_chap1_sub = cons_subscription_subset.loc[(cons_subscription_subset['chapter_id']==1) & (cons_subscription_subset['isunsub']==0)].reset_index()"
   ]
  },
  {
   "cell_type": "code",
   "execution_count": 17,
   "metadata": {},
   "outputs": [],
   "source": [
    "# Filtering out email ids who have unsubscribed to chapter 1\n",
    "cons_subscription_chap1_notsub = cons_subscription_subset.loc[(cons_subscription_subset['chapter_id']==1) & (cons_subscription_subset['isunsub']==1)].reset_index()"
   ]
  },
  {
   "cell_type": "markdown",
   "metadata": {},
   "source": [
    "My assummption here is that the column isunsub is a bollean column, if its 1 then it means the email is unsubscribed to the chapter; if its 0 then it means the email is subscribed to the chapter"
   ]
  },
  {
   "cell_type": "code",
   "execution_count": 18,
   "metadata": {},
   "outputs": [],
   "source": [
    "# Filtering out email ids where chapter is not 1\n",
    "cons_subscription_notchap1 = cons_subscription_subset.loc[cons_subscription_subset['chapter_id']!=1].reset_index()"
   ]
  },
  {
   "cell_type": "code",
   "execution_count": 19,
   "metadata": {},
   "outputs": [
    {
     "data": {
      "text/html": [
       "<div>\n",
       "<style scoped>\n",
       "    .dataframe tbody tr th:only-of-type {\n",
       "        vertical-align: middle;\n",
       "    }\n",
       "\n",
       "    .dataframe tbody tr th {\n",
       "        vertical-align: top;\n",
       "    }\n",
       "\n",
       "    .dataframe thead th {\n",
       "        text-align: right;\n",
       "    }\n",
       "</style>\n",
       "<table border=\"1\" class=\"dataframe\">\n",
       "  <thead>\n",
       "    <tr style=\"text-align: right;\">\n",
       "      <th></th>\n",
       "      <th>index</th>\n",
       "      <th>cons_email_id</th>\n",
       "      <th>chapter_id</th>\n",
       "      <th>isunsub</th>\n",
       "    </tr>\n",
       "  </thead>\n",
       "  <tbody>\n",
       "    <tr>\n",
       "      <th>2</th>\n",
       "      <td>1772</td>\n",
       "      <td>448407</td>\n",
       "      <td>2</td>\n",
       "      <td>1</td>\n",
       "    </tr>\n",
       "    <tr>\n",
       "      <th>1855</th>\n",
       "      <td>52732</td>\n",
       "      <td>448407</td>\n",
       "      <td>4</td>\n",
       "      <td>1</td>\n",
       "    </tr>\n",
       "    <tr>\n",
       "      <th>48349</th>\n",
       "      <td>277208</td>\n",
       "      <td>448407</td>\n",
       "      <td>2</td>\n",
       "      <td>1</td>\n",
       "    </tr>\n",
       "  </tbody>\n",
       "</table>\n",
       "</div>"
      ],
      "text/plain": [
       "        index  cons_email_id  chapter_id  isunsub\n",
       "2        1772         448407           2        1\n",
       "1855    52732         448407           4        1\n",
       "48349  277208         448407           2        1"
      ]
     },
     "execution_count": 19,
     "metadata": {},
     "output_type": "execute_result"
    }
   ],
   "source": [
    "cons_subscription_notchap1[cons_subscription_notchap1['cons_email_id']==448407]"
   ]
  },
  {
   "cell_type": "code",
   "execution_count": 20,
   "metadata": {},
   "outputs": [
    {
     "data": {
      "text/html": [
       "<div>\n",
       "<style scoped>\n",
       "    .dataframe tbody tr th:only-of-type {\n",
       "        vertical-align: middle;\n",
       "    }\n",
       "\n",
       "    .dataframe tbody tr th {\n",
       "        vertical-align: top;\n",
       "    }\n",
       "\n",
       "    .dataframe thead th {\n",
       "        text-align: right;\n",
       "    }\n",
       "</style>\n",
       "<table border=\"1\" class=\"dataframe\">\n",
       "  <thead>\n",
       "    <tr style=\"text-align: right;\">\n",
       "      <th></th>\n",
       "      <th>index</th>\n",
       "      <th>cons_email_id</th>\n",
       "      <th>chapter_id</th>\n",
       "      <th>isunsub</th>\n",
       "    </tr>\n",
       "  </thead>\n",
       "  <tbody>\n",
       "    <tr>\n",
       "      <th>946</th>\n",
       "      <td>946</td>\n",
       "      <td>448407</td>\n",
       "      <td>1</td>\n",
       "      <td>0</td>\n",
       "    </tr>\n",
       "  </tbody>\n",
       "</table>\n",
       "</div>"
      ],
      "text/plain": [
       "     index  cons_email_id  chapter_id  isunsub\n",
       "946    946         448407           1        0"
      ]
     },
     "execution_count": 20,
     "metadata": {},
     "output_type": "execute_result"
    }
   ],
   "source": [
    "cons_subscription_chap1[cons_subscription_chap1['cons_email_id']==448407]"
   ]
  },
  {
   "cell_type": "markdown",
   "metadata": {},
   "source": [
    "In the above case we notice that the same email is subscribed to chapter 1 as well as other chapters. Our motive here is consider the email ids who have subscribed to other chapters except 1 as non-subscribers to chapter 1. \n",
    "\n",
    "A email id can be subscriber of 2,3,4 chapters. But in this problem statement we are only concerned with Chapter 1 subscribers. So even if an email id is subscribed to 2 and 3. As far as we are concerned that particular email id is a non-subscriber of chapter 1\n",
    "\n",
    "But if an email id is subscribed to 1,2 and 4 chapters then we consider that email a subscriber of chapter 1."
   ]
  },
  {
   "cell_type": "code",
   "execution_count": 21,
   "metadata": {},
   "outputs": [],
   "source": [
    "# Filtering out email ids that are subscribed to chapter 1 and other chapters\n",
    "cons_subscription_commonchap = cons_subscription_notchap1.merge(cons_subscription_chap1_sub, on='cons_email_id',suffixes=('','_y'))\n",
    "cons_subscription_commonchap = cons_subscription_commonchap.drop([col for col in cons_subscription_commonchap.columns if '_y' in col], axis=1)"
   ]
  },
  {
   "cell_type": "code",
   "execution_count": 22,
   "metadata": {},
   "outputs": [
    {
     "data": {
      "text/plain": [
       "67115"
      ]
     },
     "execution_count": 22,
     "metadata": {},
     "output_type": "execute_result"
    }
   ],
   "source": [
    "# Filtering our email ids that are only subscribed/unsubcribed to chapters other than chapter id one\n",
    "cons_subscription_notchap1.shape[0]-cons_subscription_commonchap.shape[0]"
   ]
  },
  {
   "cell_type": "code",
   "execution_count": 23,
   "metadata": {},
   "outputs": [],
   "source": [
    "cons_subscription_notsubchap1 = subtract_df(cons_subscription_notchap1,cons_subscription_commonchap,on='cons_email_id').reset_index().drop(['level_0'],axis=1)"
   ]
  },
  {
   "cell_type": "markdown",
   "metadata": {},
   "source": [
    "From the above cell we see that there are 67115 email ids who have not subscribed to chapter 1 but they have subscribed to other chapters.\n",
    "\n",
    "So as far as we are concerned they are non-subscribers of chapter 1"
   ]
  },
  {
   "cell_type": "code",
   "execution_count": 24,
   "metadata": {},
   "outputs": [],
   "source": [
    "emails_not_sub_chap1_final = pd.concat([cons_subscription_notsubchap1,cons_subscription_chap1_notsub],axis=0)\n",
    "emails_not_sub_chap1_final = emails_not_sub_chap1_final.drop_duplicates(subset=['cons_email_id'])"
   ]
  },
  {
   "cell_type": "markdown",
   "metadata": {},
   "source": [
    "The final dataframe (emails_not_sub_chap1_final) is a combination of-\n",
    "- Email ids who have not subscribed to the chapter id 1 (i.e where isusub=1 and chapter_id=1)\n",
    "- Email ids who are subscribed to all chapter ids except 1\n"
   ]
  },
  {
   "cell_type": "code",
   "execution_count": 25,
   "metadata": {},
   "outputs": [],
   "source": [
    "# Removing email ids that are present in constitunet_subscription_status\n",
    "email_in_primary_sub_chap1 = subtract_df(cons_email_primary,cons_subscription_subset,on='cons_email_id').reset_index().drop(['is_primary','email','cons_id'], axis=1)\n",
    "email_in_primary_sub_chap1['chapter_id']=1\n",
    "email_in_primary_sub_chap1['isunsub']=0"
   ]
  },
  {
   "cell_type": "markdown",
   "metadata": {},
   "source": [
    "- As per the given information, email ids that are not present in Constituent subscription status are by default subscribed to chapter 1\n",
    "\n",
    "- So in the above cell we filter out email ids from constituent email addressess that are present not present in constitunet_subscription_status\n",
    "\n",
    "- Since we do not have information about these email ids in constitunet_subscription_status we consider them subscribed to chapter 1"
   ]
  },
  {
   "cell_type": "code",
   "execution_count": 26,
   "metadata": {},
   "outputs": [],
   "source": [
    "# Combining people who have subscribed to chapter 1\n",
    "emails_sub_chap1_final = pd.concat([email_in_primary_sub_chap1,cons_subscription_chap1_sub],axis=0).reset_index().drop(['level_0'], axis=1)"
   ]
  },
  {
   "cell_type": "markdown",
   "metadata": {},
   "source": [
    "In the above cell we have combined email ids who have subscribed to chapter 1 from constitunet_subscription_status and email ids that are not present in constitunet_subscription_status but present in constitunet_email_addressess"
   ]
  },
  {
   "cell_type": "code",
   "execution_count": 27,
   "metadata": {},
   "outputs": [],
   "source": [
    "peoples_final = pd.concat([emails_sub_chap1_final,emails_not_sub_chap1_final],axis=0).reset_index().drop(['level_0'], axis=1)"
   ]
  },
  {
   "cell_type": "markdown",
   "metadata": {},
   "source": [
    "In the above cell we combined people who have subscribed to chapter 1 and people who have not resulting in the peoples dataframe"
   ]
  },
  {
   "cell_type": "code",
   "execution_count": 28,
   "metadata": {},
   "outputs": [],
   "source": [
    "# Joining the primary constitunet_email dataframe on cons_email_id \n",
    "people_final_primary_email = cons_email_primary.merge(peoples_final,on='cons_email_id').drop(['index','is_primary','chapter_id'],axis=1)"
   ]
  },
  {
   "cell_type": "markdown",
   "metadata": {},
   "source": [
    "In the resulting dataframe we are only concerned with primary email ids. Hence we perform a inner join between cons_email_primary and peoples_final which will filter out email ids that are not primary"
   ]
  },
  {
   "cell_type": "code",
   "execution_count": 29,
   "metadata": {},
   "outputs": [],
   "source": [
    "# Joining with constituent information dataframe to get the other columns\n",
    "final_df =  people_final_primary_email.merge(cons_information_subset,on='cons_id').drop(['cons_email_id','cons_id'],axis=1)"
   ]
  },
  {
   "cell_type": "code",
   "execution_count": 30,
   "metadata": {},
   "outputs": [],
   "source": [
    "final_df = final_df.rename(columns={'create_dt':'created_dt','modified_dt':'updated_dt','source':'code','isunsub':'is_unsub'})[['email','code','is_unsub','created_dt','updated_dt']]"
   ]
  },
  {
   "cell_type": "code",
   "execution_count": 31,
   "metadata": {},
   "outputs": [
    {
     "data": {
      "text/html": [
       "<div>\n",
       "<style scoped>\n",
       "    .dataframe tbody tr th:only-of-type {\n",
       "        vertical-align: middle;\n",
       "    }\n",
       "\n",
       "    .dataframe tbody tr th {\n",
       "        vertical-align: top;\n",
       "    }\n",
       "\n",
       "    .dataframe thead th {\n",
       "        text-align: right;\n",
       "    }\n",
       "</style>\n",
       "<table border=\"1\" class=\"dataframe\">\n",
       "  <thead>\n",
       "    <tr style=\"text-align: right;\">\n",
       "      <th></th>\n",
       "      <th>email</th>\n",
       "      <th>code</th>\n",
       "      <th>is_unsub</th>\n",
       "      <th>created_dt</th>\n",
       "      <th>updated_dt</th>\n",
       "    </tr>\n",
       "  </thead>\n",
       "  <tbody>\n",
       "    <tr>\n",
       "      <th>0</th>\n",
       "      <td>xmartinez@vincent.com</td>\n",
       "      <td>NaN</td>\n",
       "      <td>0</td>\n",
       "      <td>Tue, 1997-09-30 01:41:35</td>\n",
       "      <td>Thu, 1981-02-26 19:36:22</td>\n",
       "    </tr>\n",
       "    <tr>\n",
       "      <th>1</th>\n",
       "      <td>hmiller@haynes.biz</td>\n",
       "      <td>google</td>\n",
       "      <td>0</td>\n",
       "      <td>Thu, 2014-03-27 23:18:18</td>\n",
       "      <td>Mon, 2012-12-10 18:46:32</td>\n",
       "    </tr>\n",
       "    <tr>\n",
       "      <th>2</th>\n",
       "      <td>aaron64@yahoo.com</td>\n",
       "      <td>NaN</td>\n",
       "      <td>1</td>\n",
       "      <td>Mon, 1992-06-01 06:07:45</td>\n",
       "      <td>Mon, 1986-07-28 03:41:12</td>\n",
       "    </tr>\n",
       "    <tr>\n",
       "      <th>3</th>\n",
       "      <td>wyattvincent@hotmail.com</td>\n",
       "      <td>NaN</td>\n",
       "      <td>1</td>\n",
       "      <td>Sun, 1993-05-23 08:00:18</td>\n",
       "      <td>Sat, 1983-05-07 09:29:18</td>\n",
       "    </tr>\n",
       "    <tr>\n",
       "      <th>4</th>\n",
       "      <td>tspencer@hotmail.com</td>\n",
       "      <td>twitter</td>\n",
       "      <td>1</td>\n",
       "      <td>Fri, 1986-10-31 03:24:05</td>\n",
       "      <td>Sat, 1979-09-22 05:01:01</td>\n",
       "    </tr>\n",
       "    <tr>\n",
       "      <th>...</th>\n",
       "      <td>...</td>\n",
       "      <td>...</td>\n",
       "      <td>...</td>\n",
       "      <td>...</td>\n",
       "      <td>...</td>\n",
       "    </tr>\n",
       "    <tr>\n",
       "      <th>605634</th>\n",
       "      <td>smallmelvin@mitchell.com</td>\n",
       "      <td>google</td>\n",
       "      <td>0</td>\n",
       "      <td>Fri, 1993-01-01 11:27:41</td>\n",
       "      <td>Sat, 1978-11-25 23:47:50</td>\n",
       "    </tr>\n",
       "    <tr>\n",
       "      <th>605635</th>\n",
       "      <td>gardnerchristian@hotmail.com</td>\n",
       "      <td>NaN</td>\n",
       "      <td>0</td>\n",
       "      <td>Wed, 1979-02-07 03:11:36</td>\n",
       "      <td>Thu, 1993-02-04 21:29:28</td>\n",
       "    </tr>\n",
       "    <tr>\n",
       "      <th>605636</th>\n",
       "      <td>ginanguyen@munoz.com</td>\n",
       "      <td>google</td>\n",
       "      <td>0</td>\n",
       "      <td>Wed, 2007-05-09 20:39:24</td>\n",
       "      <td>Mon, 1993-05-10 02:58:28</td>\n",
       "    </tr>\n",
       "    <tr>\n",
       "      <th>605637</th>\n",
       "      <td>tatenicole@yahoo.com</td>\n",
       "      <td>organic</td>\n",
       "      <td>0</td>\n",
       "      <td>Sun, 1985-10-13 06:19:47</td>\n",
       "      <td>Sun, 2019-02-17 20:19:53</td>\n",
       "    </tr>\n",
       "    <tr>\n",
       "      <th>605638</th>\n",
       "      <td>creyes@gonzalez.com</td>\n",
       "      <td>NaN</td>\n",
       "      <td>0</td>\n",
       "      <td>Thu, 1992-08-20 08:34:50</td>\n",
       "      <td>Sat, 1984-04-07 02:47:04</td>\n",
       "    </tr>\n",
       "  </tbody>\n",
       "</table>\n",
       "<p>605639 rows × 5 columns</p>\n",
       "</div>"
      ],
      "text/plain": [
       "                               email     code  is_unsub  \\\n",
       "0              xmartinez@vincent.com      NaN         0   \n",
       "1                 hmiller@haynes.biz   google         0   \n",
       "2                  aaron64@yahoo.com      NaN         1   \n",
       "3           wyattvincent@hotmail.com      NaN         1   \n",
       "4               tspencer@hotmail.com  twitter         1   \n",
       "...                              ...      ...       ...   \n",
       "605634      smallmelvin@mitchell.com   google         0   \n",
       "605635  gardnerchristian@hotmail.com      NaN         0   \n",
       "605636          ginanguyen@munoz.com   google         0   \n",
       "605637          tatenicole@yahoo.com  organic         0   \n",
       "605638           creyes@gonzalez.com      NaN         0   \n",
       "\n",
       "                      created_dt                updated_dt  \n",
       "0       Tue, 1997-09-30 01:41:35  Thu, 1981-02-26 19:36:22  \n",
       "1       Thu, 2014-03-27 23:18:18  Mon, 2012-12-10 18:46:32  \n",
       "2       Mon, 1992-06-01 06:07:45  Mon, 1986-07-28 03:41:12  \n",
       "3       Sun, 1993-05-23 08:00:18  Sat, 1983-05-07 09:29:18  \n",
       "4       Fri, 1986-10-31 03:24:05  Sat, 1979-09-22 05:01:01  \n",
       "...                          ...                       ...  \n",
       "605634  Fri, 1993-01-01 11:27:41  Sat, 1978-11-25 23:47:50  \n",
       "605635  Wed, 1979-02-07 03:11:36  Thu, 1993-02-04 21:29:28  \n",
       "605636  Wed, 2007-05-09 20:39:24  Mon, 1993-05-10 02:58:28  \n",
       "605637  Sun, 1985-10-13 06:19:47  Sun, 2019-02-17 20:19:53  \n",
       "605638  Thu, 1992-08-20 08:34:50  Sat, 1984-04-07 02:47:04  \n",
       "\n",
       "[605639 rows x 5 columns]"
      ]
     },
     "execution_count": 31,
     "metadata": {},
     "output_type": "execute_result"
    }
   ],
   "source": [
    "final_df"
   ]
  },
  {
   "cell_type": "code",
   "execution_count": 30,
   "metadata": {},
   "outputs": [],
   "source": [
    "# Saving file to current working directory\n",
    "final_df.to_csv('people.csv',header=True,index=False)"
   ]
  },
  {
   "cell_type": "markdown",
   "metadata": {},
   "source": [
    "### Question 2"
   ]
  },
  {
   "cell_type": "code",
   "execution_count": 32,
   "metadata": {},
   "outputs": [],
   "source": [
    "# Extracting date from timestamp\n",
    "final_df['acquisition_date'] = pd.to_datetime(final_df['created_dt']).dt.date"
   ]
  },
  {
   "cell_type": "code",
   "execution_count": 33,
   "metadata": {},
   "outputs": [],
   "source": [
    "# Grouping by date\n",
    "acquisition_facts = final_df.groupby(final_df['acquisition_date']).agg({'acquisition_date':'count'}).rename(columns={'acquisition_date': 'count'}).reset_index()"
   ]
  },
  {
   "cell_type": "code",
   "execution_count": 34,
   "metadata": {},
   "outputs": [
    {
     "data": {
      "text/html": [
       "<div>\n",
       "<style scoped>\n",
       "    .dataframe tbody tr th:only-of-type {\n",
       "        vertical-align: middle;\n",
       "    }\n",
       "\n",
       "    .dataframe tbody tr th {\n",
       "        vertical-align: top;\n",
       "    }\n",
       "\n",
       "    .dataframe thead th {\n",
       "        text-align: right;\n",
       "    }\n",
       "</style>\n",
       "<table border=\"1\" class=\"dataframe\">\n",
       "  <thead>\n",
       "    <tr style=\"text-align: right;\">\n",
       "      <th></th>\n",
       "      <th>acquisition_date</th>\n",
       "      <th>count</th>\n",
       "    </tr>\n",
       "  </thead>\n",
       "  <tbody>\n",
       "    <tr>\n",
       "      <th>0</th>\n",
       "      <td>1970-01-01</td>\n",
       "      <td>28</td>\n",
       "    </tr>\n",
       "    <tr>\n",
       "      <th>1</th>\n",
       "      <td>1970-01-02</td>\n",
       "      <td>34</td>\n",
       "    </tr>\n",
       "    <tr>\n",
       "      <th>2</th>\n",
       "      <td>1970-01-03</td>\n",
       "      <td>27</td>\n",
       "    </tr>\n",
       "    <tr>\n",
       "      <th>3</th>\n",
       "      <td>1970-01-04</td>\n",
       "      <td>36</td>\n",
       "    </tr>\n",
       "    <tr>\n",
       "      <th>4</th>\n",
       "      <td>1970-01-05</td>\n",
       "      <td>39</td>\n",
       "    </tr>\n",
       "    <tr>\n",
       "      <th>...</th>\n",
       "      <td>...</td>\n",
       "      <td>...</td>\n",
       "    </tr>\n",
       "    <tr>\n",
       "      <th>18440</th>\n",
       "      <td>2020-06-27</td>\n",
       "      <td>36</td>\n",
       "    </tr>\n",
       "    <tr>\n",
       "      <th>18441</th>\n",
       "      <td>2020-06-28</td>\n",
       "      <td>33</td>\n",
       "    </tr>\n",
       "    <tr>\n",
       "      <th>18442</th>\n",
       "      <td>2020-06-29</td>\n",
       "      <td>24</td>\n",
       "    </tr>\n",
       "    <tr>\n",
       "      <th>18443</th>\n",
       "      <td>2020-06-30</td>\n",
       "      <td>40</td>\n",
       "    </tr>\n",
       "    <tr>\n",
       "      <th>18444</th>\n",
       "      <td>2020-07-01</td>\n",
       "      <td>26</td>\n",
       "    </tr>\n",
       "  </tbody>\n",
       "</table>\n",
       "<p>18445 rows × 2 columns</p>\n",
       "</div>"
      ],
      "text/plain": [
       "      acquisition_date  count\n",
       "0           1970-01-01     28\n",
       "1           1970-01-02     34\n",
       "2           1970-01-03     27\n",
       "3           1970-01-04     36\n",
       "4           1970-01-05     39\n",
       "...                ...    ...\n",
       "18440       2020-06-27     36\n",
       "18441       2020-06-28     33\n",
       "18442       2020-06-29     24\n",
       "18443       2020-06-30     40\n",
       "18444       2020-07-01     26\n",
       "\n",
       "[18445 rows x 2 columns]"
      ]
     },
     "execution_count": 34,
     "metadata": {},
     "output_type": "execute_result"
    }
   ],
   "source": [
    "acquisition_facts"
   ]
  },
  {
   "cell_type": "code",
   "execution_count": 34,
   "metadata": {},
   "outputs": [],
   "source": [
    "# Saving file to current working directory\n",
    "acquisition_facts.to_csv('acquisition_facts.csv',header=True,index=False)"
   ]
  }
 ],
 "metadata": {
  "kernelspec": {
   "display_name": "Python 3",
   "language": "python",
   "name": "python3"
  },
  "language_info": {
   "codemirror_mode": {
    "name": "ipython",
    "version": 3
   },
   "file_extension": ".py",
   "mimetype": "text/x-python",
   "name": "python",
   "nbconvert_exporter": "python",
   "pygments_lexer": "ipython3",
   "version": "3.7.1"
  }
 },
 "nbformat": 4,
 "nbformat_minor": 4
}
